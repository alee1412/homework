{
 "cells": [
  {
   "cell_type": "markdown",
   "metadata": {},
   "source": [
    "# Pyber"
   ]
  },
  {
   "cell_type": "code",
   "execution_count": 2,
   "metadata": {},
   "outputs": [],
   "source": [
    "#Dependencies\n",
    "from matplotlib import pyplot as plt\n",
    "from scipy import stats\n",
    "import pandas as pd\n",
    "import numpy as np"
   ]
  },
  {
   "cell_type": "code",
   "execution_count": 4,
   "metadata": {},
   "outputs": [],
   "source": [
    "#Build a bubble plot between the 4 variables:\n",
    "    #Average Fare($) per City\n",
    "    #Total Number of Rides per City\n",
    "    #Total Number of Drivers per City\n",
    "    #City TYpe (Urban, Suburban, Rural)\n",
    "#In addition, 3 pie charts:\n",
    "    #Percentage of Total Fares by City Type\n",
    "    #Percentage of Total Rides by City Type\n",
    "    #Percentage of Total Drivers by City Type\n",
    "    \n",
    "#Must use colors Gold, Light Sky Blue, and Light Coral"
   ]
  },
  {
   "cell_type": "code",
   "execution_count": 147,
   "metadata": {},
   "outputs": [],
   "source": [
    "ride_data = pd.read_csv(\"raw_data/ride_data.csv\")\n",
    "city_data = pd.read_csv(\"raw_data/city_data.csv\")\n",
    "\n",
    "grouped_ride_df = pd.DataFrame(ride_data)\n",
    "grouped_city_df = pd.DataFrame(city_data)"
   ]
  },
  {
   "cell_type": "code",
   "execution_count": 148,
   "metadata": {},
   "outputs": [],
   "source": [
    "#Average Fare($) per city & Total Number of Drivers per city\n",
    "grouped_city_fare = grouped_ride_df.groupby('city',as_index=False).mean()\n",
    "#print(grouped_city_fare.head())\n",
    "\n",
    "pyber_merge = pd.merge(grouped_city_fare, grouped_city_df, on='city', how='outer')\n",
    "#pyber_merge.head()"
   ]
  },
  {
   "cell_type": "code",
   "execution_count": 149,
   "metadata": {},
   "outputs": [],
   "source": [
    "#Total Number of Rides per city \n",
    "grouped_city_fare = grouped_ride_df.groupby('city',as_index=False).count()\n",
    "\n",
    "grouped_city_fare = grouped_city_fare.rename(columns={'date':'Total Number of Rides'})\n",
    "#grouped_city_fare.head()"
   ]
  },
  {
   "cell_type": "code",
   "execution_count": 153,
   "metadata": {},
   "outputs": [
    {
     "data": {
      "text/html": [
       "<div>\n",
       "<style scoped>\n",
       "    .dataframe tbody tr th:only-of-type {\n",
       "        vertical-align: middle;\n",
       "    }\n",
       "\n",
       "    .dataframe tbody tr th {\n",
       "        vertical-align: top;\n",
       "    }\n",
       "\n",
       "    .dataframe thead th {\n",
       "        text-align: right;\n",
       "    }\n",
       "</style>\n",
       "<table border=\"1\" class=\"dataframe\">\n",
       "  <thead>\n",
       "    <tr style=\"text-align: right;\">\n",
       "      <th></th>\n",
       "      <th>city</th>\n",
       "      <th>Average Fare</th>\n",
       "      <th>Total Number of Drivers</th>\n",
       "      <th>City Type</th>\n",
       "      <th>Total Number of Rides</th>\n",
       "    </tr>\n",
       "  </thead>\n",
       "  <tbody>\n",
       "    <tr>\n",
       "      <th>0</th>\n",
       "      <td>Alvarezhaven</td>\n",
       "      <td>23.928710</td>\n",
       "      <td>21</td>\n",
       "      <td>Urban</td>\n",
       "      <td>31</td>\n",
       "    </tr>\n",
       "    <tr>\n",
       "      <th>1</th>\n",
       "      <td>Alyssaberg</td>\n",
       "      <td>20.609615</td>\n",
       "      <td>67</td>\n",
       "      <td>Urban</td>\n",
       "      <td>26</td>\n",
       "    </tr>\n",
       "    <tr>\n",
       "      <th>2</th>\n",
       "      <td>Anitamouth</td>\n",
       "      <td>37.315556</td>\n",
       "      <td>16</td>\n",
       "      <td>Suburban</td>\n",
       "      <td>9</td>\n",
       "    </tr>\n",
       "    <tr>\n",
       "      <th>3</th>\n",
       "      <td>Antoniomouth</td>\n",
       "      <td>23.625000</td>\n",
       "      <td>21</td>\n",
       "      <td>Urban</td>\n",
       "      <td>22</td>\n",
       "    </tr>\n",
       "    <tr>\n",
       "      <th>4</th>\n",
       "      <td>Aprilchester</td>\n",
       "      <td>21.981579</td>\n",
       "      <td>49</td>\n",
       "      <td>Urban</td>\n",
       "      <td>19</td>\n",
       "    </tr>\n",
       "  </tbody>\n",
       "</table>\n",
       "</div>"
      ],
      "text/plain": [
       "           city  Average Fare  Total Number of Drivers City Type  \\\n",
       "0  Alvarezhaven     23.928710                       21     Urban   \n",
       "1    Alyssaberg     20.609615                       67     Urban   \n",
       "2    Anitamouth     37.315556                       16  Suburban   \n",
       "3  Antoniomouth     23.625000                       21     Urban   \n",
       "4  Aprilchester     21.981579                       49     Urban   \n",
       "\n",
       "   Total Number of Rides  \n",
       "0                     31  \n",
       "1                     26  \n",
       "2                      9  \n",
       "3                     22  \n",
       "4                     19  "
      ]
     },
     "execution_count": 153,
     "metadata": {},
     "output_type": "execute_result"
    }
   ],
   "source": [
    "#Final DF\n",
    "pyber = pd.merge(pyber_merge, grouped_city_fare, on='city', how='outer')\n",
    "#pyber\n",
    "\n",
    "pyber.drop(['fare_y', 'ride_id_y', 'ride_id_x'], axis=1, inplace=True)\n",
    "pyber.rename(columns={'fare_x':'Average Fare', 'driver_count':'Total Number of Drivers', 'type':'City Type'}, inplace=True)\n",
    "pyber.head()"
   ]
  }
 ],
 "metadata": {
  "kernelspec": {
   "display_name": "Python 3",
   "language": "python",
   "name": "python3"
  },
  "language_info": {
   "codemirror_mode": {
    "name": "ipython",
    "version": 3
   },
   "file_extension": ".py",
   "mimetype": "text/x-python",
   "name": "python",
   "nbconvert_exporter": "python",
   "pygments_lexer": "ipython3",
   "version": "3.6.4"
  }
 },
 "nbformat": 4,
 "nbformat_minor": 2
}
